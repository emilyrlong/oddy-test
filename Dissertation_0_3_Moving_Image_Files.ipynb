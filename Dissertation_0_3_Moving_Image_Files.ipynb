{
  "nbformat": 4,
  "nbformat_minor": 0,
  "metadata": {
    "kernelspec": {
      "display_name": "Python 3",
      "language": "python",
      "name": "python3"
    },
    "language_info": {
      "codemirror_mode": {
        "name": "ipython",
        "version": 3
      },
      "file_extension": ".py",
      "mimetype": "text/x-python",
      "name": "python",
      "nbconvert_exporter": "python",
      "pygments_lexer": "ipython3",
      "version": "3.7.4"
    },
    "colab": {
      "name": "Dissertation 0.3: Moving Image Files",
      "private_outputs": true,
      "provenance": [],
      "collapsed_sections": [],
      "include_colab_link": true
    }
  },
  "cells": [
    {
      "cell_type": "markdown",
      "metadata": {
        "id": "view-in-github",
        "colab_type": "text"
      },
      "source": [
        "<a href=\"https://colab.research.google.com/github/emilyrlong/oddy-test/blob/main/Dissertation_0_3_Moving_Image_Files.ipynb\" target=\"_parent\"><img src=\"https://colab.research.google.com/assets/colab-badge.svg\" alt=\"Open In Colab\"/></a>"
      ]
    },
    {
      "cell_type": "markdown",
      "metadata": {
        "id": "rOvvWAVTkMR7"
      },
      "source": [
        "# Dissertation Part 0.3: Moving Image or Numpy Files in Google Drive\n",
        "\n",
        "This Colab will move jpg images or numpy arrays to different folders within Google Drive. In particular, this code sorts the files into training, validation, and test splits based on a csv file with filenames. "
      ]
    },
    {
      "cell_type": "markdown",
      "metadata": {
        "id": "vPs64QA1Zdov"
      },
      "source": [
        "## **Step 1**: Connect to Google Drive"
      ]
    },
    {
      "cell_type": "code",
      "metadata": {
        "id": "LCz_o4e5vdDN"
      },
      "source": [
        "# Connect colab to Google Drive\n",
        "from google.colab import drive\n",
        "drive.mount('/content/drive')"
      ],
      "execution_count": null,
      "outputs": []
    },
    {
      "cell_type": "markdown",
      "metadata": {
        "id": "21tUtyyVrkIt"
      },
      "source": [
        "## **Step 2**: Import Packages\n"
      ]
    },
    {
      "cell_type": "code",
      "metadata": {
        "id": "qG4BATEprz6i"
      },
      "source": [
        "import os\n",
        "import shutil\n",
        "import pandas as pd"
      ],
      "execution_count": null,
      "outputs": []
    },
    {
      "cell_type": "code",
      "metadata": {
        "id": "tF4RzkUzgWBN"
      },
      "source": [
        "# Moving all numpy files into one folder\n",
        "# !mv /content/drive/MyDrive/Dissertation/new_test_npy/*.npy /content/drive/MyDrive/Dissertation/new_train_npy"
      ],
      "execution_count": null,
      "outputs": []
    },
    {
      "cell_type": "markdown",
      "metadata": {
        "id": "ol6rNftu7XSF"
      },
      "source": [
        "## **Step 3**: Move the files"
      ]
    },
    {
      "cell_type": "code",
      "metadata": {
        "id": "xb1IU8Z6NbFv"
      },
      "source": [
        "# Load in a csv of the file names that you want to move:\n",
        "\n",
        "files = pd.read_csv('/content/drive/MyDrive/Dissertation/labels/val_names_Aug11.csv')\n",
        "# files = pd.read_csv('/content/drive/MyDrive/Dissertation/labels/batch3/val_names.csv')"
      ],
      "execution_count": null,
      "outputs": []
    },
    {
      "cell_type": "code",
      "metadata": {
        "id": "XlFkz14zvlD7"
      },
      "source": [
        "files"
      ],
      "execution_count": null,
      "outputs": []
    },
    {
      "cell_type": "code",
      "metadata": {
        "id": "STWg6IlPOmAe"
      },
      "source": [
        "# Get a vector of file names\n",
        "filenames = files['filename']"
      ],
      "execution_count": null,
      "outputs": []
    },
    {
      "cell_type": "code",
      "metadata": {
        "id": "3w01uMO4PBMP"
      },
      "source": [
        "# Provide path of the directory containing the images\n",
        "# image_dir = '/content/drive/MyDrive/Dissertation/small_images'\n",
        "# image_dir = '/content/drive/MyDrive/Dissertation/batch3'\n",
        "image_dir = '/content/drive/MyDrive/Dissertation/new_train_npy'\n",
        "\n",
        "# Provide path of the new directory to hold the new files\n",
        "# new_dir = '/content/drive/MyDrive/Dissertation/new_train_npy/move_to_test'\n",
        "# new_dir = '/content/drive/MyDrive/Dissertation/small_images/test'\n",
        "new_dir = '/content/drive/MyDrive/Dissertation/new_val_npy'"
      ],
      "execution_count": null,
      "outputs": []
    },
    {
      "cell_type": "code",
      "metadata": {
        "id": "eqgD-sY3Ouqj"
      },
      "source": [
        "for file in filenames:\n",
        "        file = file.replace('jpg','npy')\n",
        "        # define the path (string) for each image\n",
        "        image_path = os.path.join(image_dir,file)\n",
        "        if os.path.isfile(image_path) == True:\n",
        "          # Assign a new path to save the image's numpy array file\n",
        "          new_path = os.path.join(new_dir,file)\n",
        "          # Save the new file\n",
        "          shutil.move(image_path, new_path)\n",
        "        print('Moved:' + file)"
      ],
      "execution_count": null,
      "outputs": []
    },
    {
      "cell_type": "code",
      "metadata": {
        "id": "ZLnLZEQx2nK7"
      },
      "source": [
        "# Checking number of files in the directories\n",
        "npy_dir = '/content/drive/MyDrive/Dissertation/new_train_npy'\n",
        "files = os.listdir(npy_dir)\n",
        "len(files)"
      ],
      "execution_count": null,
      "outputs": []
    }
  ]
}