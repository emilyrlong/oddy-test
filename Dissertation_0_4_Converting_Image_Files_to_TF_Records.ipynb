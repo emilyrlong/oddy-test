{
  "nbformat": 4,
  "nbformat_minor": 0,
  "metadata": {
    "kernelspec": {
      "display_name": "Python 3",
      "language": "python",
      "name": "python3"
    },
    "language_info": {
      "codemirror_mode": {
        "name": "ipython",
        "version": 3
      },
      "file_extension": ".py",
      "mimetype": "text/x-python",
      "name": "python",
      "nbconvert_exporter": "python",
      "pygments_lexer": "ipython3",
      "version": "3.7.4"
    },
    "colab": {
      "name": "Dissertation 0.4: Converting Image Files to TF Records",
      "private_outputs": true,
      "provenance": [],
      "collapsed_sections": [
        "21tUtyyVrkIt"
      ],
      "include_colab_link": true
    },
    "accelerator": "GPU"
  },
  "cells": [
    {
      "cell_type": "markdown",
      "metadata": {
        "id": "view-in-github",
        "colab_type": "text"
      },
      "source": [
        "<a href=\"https://colab.research.google.com/github/emilyrlong/oddy-test/blob/main/Dissertation_0_4_Converting_Image_Files_to_TF_Records.ipynb\" target=\"_parent\"><img src=\"https://colab.research.google.com/assets/colab-badge.svg\" alt=\"Open In Colab\"/></a>"
      ]
    },
    {
      "cell_type": "markdown",
      "metadata": {
        "id": "rOvvWAVTkMR7"
      },
      "source": [
        "# Dissertation Step 0.4: Converting Image Files to TF Records\n",
        "\n",
        "This Colab will load jpg images and convert them into TF Records. This uses the code from this [GitHub](https://github.com/datitran/raccoon_dataset/blob/master/generate_tfrecord.py) and [blog](https://blog.roboflow.com/create-tfrecord/). I made some slight tweaks to the ```generate_tfrecord.py``` file to update it for TF2. "
      ]
    },
    {
      "cell_type": "markdown",
      "metadata": {
        "id": "vPs64QA1Zdov"
      },
      "source": [
        "## **Step 1**: Connect to Google Drive"
      ]
    },
    {
      "cell_type": "code",
      "metadata": {
        "id": "LCz_o4e5vdDN"
      },
      "source": [
        "# Connect colab to Google Drive\n",
        "from google.colab import drive\n",
        "drive.mount('/content/drive')"
      ],
      "execution_count": null,
      "outputs": []
    },
    {
      "cell_type": "markdown",
      "metadata": {
        "id": "21tUtyyVrkIt"
      },
      "source": [
        "## **Step 2**: Import Packages\n"
      ]
    },
    {
      "cell_type": "code",
      "metadata": {
        "id": "qG4BATEprz6i"
      },
      "source": [
        "import os\n",
        "import shutil\n",
        "import pandas as pd"
      ],
      "execution_count": null,
      "outputs": []
    },
    {
      "cell_type": "code",
      "metadata": {
        "id": "HllGoWY84-yw"
      },
      "source": [
        "# uncomment the next line if you want to delete an existing models directory\n",
        "!rm -rf ./models/\n",
        "\n",
        "# clone the Tensorflow Model Garden\n",
        "!git clone --depth 1 https://github.com/tensorflow/models/"
      ],
      "execution_count": null,
      "outputs": []
    },
    {
      "cell_type": "code",
      "metadata": {
        "id": "SE60U93_5FW3"
      },
      "source": [
        "# install the Object Detection API\n",
        "!cd models/research/ && protoc object_detection/protos/*.proto --python_out=. && cp object_detection/packages/tf2/setup.py . && python -m pip install ."
      ],
      "execution_count": null,
      "outputs": []
    },
    {
      "cell_type": "markdown",
      "metadata": {
        "id": "ol6rNftu7XSF"
      },
      "source": [
        "## **Step 3**: Create TF Records"
      ]
    },
    {
      "cell_type": "code",
      "metadata": {
        "id": "F6ALl4ph3BAz"
      },
      "source": [
        "!pwd"
      ],
      "execution_count": null,
      "outputs": []
    },
    {
      "cell_type": "code",
      "metadata": {
        "id": "n9_cBwZc2VSb"
      },
      "source": [
        "%cd /content/drive/MyDrive/Dissertation"
      ],
      "execution_count": null,
      "outputs": []
    },
    {
      "cell_type": "code",
      "metadata": {
        "id": "gYj4ZP4Z3F27"
      },
      "source": [
        "!ls"
      ],
      "execution_count": null,
      "outputs": []
    },
    {
      "cell_type": "code",
      "metadata": {
        "id": "rpc97ad36W6l"
      },
      "source": [
        "# !pip install absl-py"
      ],
      "execution_count": null,
      "outputs": []
    },
    {
      "cell_type": "code",
      "metadata": {
        "id": "_GDUWAF72cu2"
      },
      "source": [
        "# Created the test TFRecord in 1m 33s\n",
        "!python TFRecords/generate_tfrecord.py \\\n",
        "--csv_input=TFRecords/test_labels_Aug12.csv \\\n",
        "--image_dir=small_images/test \\\n",
        "--output_path=TFRecords/test.record"
      ],
      "execution_count": null,
      "outputs": []
    },
    {
      "cell_type": "code",
      "metadata": {
        "id": "5aKP7ZIA90YT"
      },
      "source": [
        "# Created the validation TFRecord in 2m 58s\n",
        "!python TFRecords/generate_tfrecord.py \\\n",
        "--csv_input=TFRecords/val_labels_Aug12.csv \\\n",
        "--image_dir=small_images/validation \\\n",
        "--output_path=TFRecords/val.record"
      ],
      "execution_count": null,
      "outputs": []
    },
    {
      "cell_type": "code",
      "metadata": {
        "id": "EV_erHl_-_xl"
      },
      "source": [
        "# Created the training TFRecord in 9m 20s\n",
        "!python TFRecords/generate_tfrecord.py \\\n",
        "--csv_input=TFRecords/train_labels_Aug12.csv \\\n",
        "--image_dir=small_images/train \\\n",
        "--output_path=TFRecords/train.record"
      ],
      "execution_count": null,
      "outputs": []
    }
  ]
}